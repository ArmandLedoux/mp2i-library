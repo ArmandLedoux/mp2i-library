{
 "cells": [
  {
   "cell_type": "code",
   "execution_count": 1,
   "id": "1d97d052-f933-4c96-9621-ee2da6e3b945",
   "metadata": {},
   "outputs": [
    {
     "name": "stdout",
     "output_type": "stream",
     "text": [
      "val euclide : int -> int -> int = <fun>\n",
      "val exp_rapide : int -> int -> int = <fun>\n",
      "val premier : int -> bool = <fun>\n"
     ]
    }
   ],
   "source": [
    "#use \"int.ml\""
   ]
  },
  {
   "cell_type": "code",
   "execution_count": 2,
   "id": "05398210-181a-4b98-9b01-4b2847b2e486",
   "metadata": {},
   "outputs": [
    {
     "data": {
      "text/plain": [
       "- : int * int * int = (2, 6, 1)\n"
      ]
     },
     "execution_count": 2,
     "metadata": {},
     "output_type": "execute_result"
    }
   ],
   "source": [
    "euclide 4 6, euclide 30 12, euclide 7 100"
   ]
  },
  {
   "cell_type": "code",
   "execution_count": 3,
   "id": "e931dc7a-9cec-4125-bd8b-164d3e6c6c02",
   "metadata": {},
   "outputs": [
    {
     "data": {
      "text/plain": [
       "- : int * int * int = (8, 9, 46656)\n"
      ]
     },
     "execution_count": 3,
     "metadata": {},
     "output_type": "execute_result"
    },
    {
     "ename": "error",
     "evalue": "runtime_error",
     "output_type": "error",
     "traceback": [
      "\u001b[31mException: Failure \"positive integer expected\".\nRaised at file \"stdlib.ml\", line 29, characters 22-33\nCalled from file \"toplevel/toploop.ml\", line 208, characters 17-27\n\u001b[0m"
     ]
    }
   ],
   "source": [
    "exp_rapide 2 3, exp_rapide 3 2, exp_rapide 6 6 ;;\n",
    "exp_rapide 2 (-1)"
   ]
  },
  {
   "cell_type": "code",
   "execution_count": 4,
   "id": "3f6ae5e6-0adb-404d-82c5-5dde66ad5624",
   "metadata": {},
   "outputs": [
    {
     "data": {
      "text/plain": [
       "- : bool * bool * bool * bool = (false, true, false, true)\n"
      ]
     },
     "execution_count": 4,
     "metadata": {},
     "output_type": "execute_result"
    },
    {
     "ename": "error",
     "evalue": "runtime_error",
     "output_type": "error",
     "traceback": [
      "\u001b[31mException: Failure \"positive integer expected\".\nRaised at file \"stdlib.ml\", line 29, characters 22-33\nCalled from file \"toplevel/toploop.ml\", line 208, characters 17-27\n\u001b[0m"
     ]
    }
   ],
   "source": [
    "premier 1, premier 2, premier 6, premier 31 ;;\n",
    "premier (-1)"
   ]
  }
 ],
 "metadata": {
  "kernelspec": {
   "display_name": "OCaml default",
   "language": "OCaml",
   "name": "ocaml-jupyter"
  },
  "language_info": {
   "codemirror_mode": "text/x-ocaml",
   "file_extension": ".ml",
   "mimetype": "text/x-ocaml",
   "name": "OCaml",
   "nbconverter_exporter": null,
   "pygments_lexer": "OCaml",
   "version": "4.08.1"
  }
 },
 "nbformat": 4,
 "nbformat_minor": 5
}
