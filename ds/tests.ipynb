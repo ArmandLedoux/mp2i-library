{
 "cells": [
  {
   "cell_type": "code",
   "execution_count": 1,
   "id": "7f3a796c-c6ce-4f08-8698-f9b84093cb41",
   "metadata": {},
   "outputs": [
    {
     "name": "stdout",
     "output_type": "stream",
     "text": [
      "val somme : int array -> int = <fun>\n",
      "val maximum : int array -> int = <fun>\n",
      "val croissant : 'a array -> bool = <fun>\n",
      "val map : ('a -> 'a) -> 'a array -> unit = <fun>\n",
      "val map2 : ('a -> 'b) -> 'a array -> 'b array = <fun>\n",
      "val mem : 'a array -> 'a -> bool = <fun>\n",
      "val mem2 : 'a array -> 'a -> bool = <fun>\n",
      "val max_local : int array -> int = <fun>\n",
      "val max_local2 : int array -> int = <fun>\n",
      "val tri_comptage : int array -> unit = <fun>\n",
      "val swap : 'a array -> int -> int -> unit = <fun>\n"
     ]
    }
   ],
   "source": [
    "#use \"array.ml\""
   ]
  },
  {
   "cell_type": "code",
   "execution_count": 2,
   "id": "2d9ae651-6380-4cda-9d56-c2a61dd7e234",
   "metadata": {},
   "outputs": [
    {
     "name": "stdout",
     "output_type": "stream",
     "text": [
      "val tri_bulles : 'a array -> unit = <fun>\n"
     ]
    },
    {
     "data": {
      "text/plain": [
       "val t1 : int array = [|1; -2; 6; -3; 2; 4; -11; 2; 8; -10; 7|]\n"
      ]
     },
     "execution_count": 2,
     "metadata": {},
     "output_type": "execute_result"
    },
    {
     "data": {
      "text/plain": [
       "val t2 : int array = [|-11; -10; -3; -2; 1; 2; 2; 4; 6; 7; 8|]\n"
      ]
     },
     "execution_count": 2,
     "metadata": {},
     "output_type": "execute_result"
    },
    {
     "data": {
      "text/plain": [
       "val t3 : int array = [|1; 3; 5; 6; 2; 6; 0; 3|]\n"
      ]
     },
     "execution_count": 2,
     "metadata": {},
     "output_type": "execute_result"
    }
   ],
   "source": [
    "let t1 = [|1; -2; 6; -3; 2; 4; -11; 2; 8; -10; 7|] ;;\n",
    "let t2 = [|-11; -10; -3; -2; 1; 2; 2; 4; 6; 7; 8|] ;;\n",
    "let t3 = [|1; 3; 5; 6; 2; 6; 0; 3|]"
   ]
  },
  {
   "cell_type": "code",
   "execution_count": 3,
   "id": "eb71915b-26a8-4f1a-9968-579332b64bad",
   "metadata": {},
   "outputs": [
    {
     "data": {
      "text/plain": [
       "- : int = 4\n"
      ]
     },
     "execution_count": 3,
     "metadata": {},
     "output_type": "execute_result"
    }
   ],
   "source": [
    "somme t1"
   ]
  },
  {
   "cell_type": "code",
   "execution_count": 4,
   "id": "96e30958-7188-45fb-b8a1-3ced02d808db",
   "metadata": {},
   "outputs": [
    {
     "data": {
      "text/plain": [
       "- : int = 8\n"
      ]
     },
     "execution_count": 4,
     "metadata": {},
     "output_type": "execute_result"
    }
   ],
   "source": [
    "maximum t1"
   ]
  },
  {
   "cell_type": "code",
   "execution_count": 5,
   "id": "7633896e-7230-4ffb-9b97-1567f5032fc2",
   "metadata": {},
   "outputs": [
    {
     "data": {
      "text/plain": [
       "- : bool * bool = (false, true)\n"
      ]
     },
     "execution_count": 5,
     "metadata": {},
     "output_type": "execute_result"
    }
   ],
   "source": [
    "croissant t1, croissant t2"
   ]
  },
  {
   "cell_type": "code",
   "execution_count": 6,
   "id": "9bd695f9-6035-440e-820d-40be13abb04f",
   "metadata": {},
   "outputs": [
    {
     "data": {
      "text/plain": [
       "- : int array = [|-1; 2; -6; 3; -2; -4; 11; -2; -8; 10; -7|]\n"
      ]
     },
     "execution_count": 6,
     "metadata": {},
     "output_type": "execute_result"
    }
   ],
   "source": [
    "let temp = Array.copy t1 in\n",
    "map (fun x -> -x) temp ; temp"
   ]
  },
  {
   "cell_type": "code",
   "execution_count": 7,
   "id": "28141c42-e9e5-446b-a9fe-18d5e7dbaab2",
   "metadata": {},
   "outputs": [
    {
     "data": {
      "text/plain": [
       "- : float array = [|1.; -2.; 6.; -3.; 2.; 4.; -11.; 2.; 8.; -10.; 7.|]\n"
      ]
     },
     "execution_count": 7,
     "metadata": {},
     "output_type": "execute_result"
    }
   ],
   "source": [
    "map2 (fun x -> float_of_int x) t1"
   ]
  },
  {
   "cell_type": "code",
   "execution_count": 8,
   "id": "728e3838-3ecd-4d83-9f84-14c38fbfecbd",
   "metadata": {},
   "outputs": [
    {
     "data": {
      "text/plain": [
       "- : bool * bool = (true, false)\n"
      ]
     },
     "execution_count": 8,
     "metadata": {},
     "output_type": "execute_result"
    }
   ],
   "source": [
    "mem t1 2, mem t1 3"
   ]
  },
  {
   "cell_type": "code",
   "execution_count": 9,
   "id": "eb4b5bc8-8630-4fa2-b655-cdda95729695",
   "metadata": {},
   "outputs": [
    {
     "data": {
      "text/plain": [
       "- : bool * bool = (true, false)\n"
      ]
     },
     "execution_count": 9,
     "metadata": {},
     "output_type": "execute_result"
    }
   ],
   "source": [
    "mem2 t2 2, mem2 t2 3"
   ]
  },
  {
   "cell_type": "code",
   "execution_count": 10,
   "id": "ce01b243-c9e1-44ea-bfe8-7bcf6c96c3a6",
   "metadata": {},
   "outputs": [
    {
     "data": {
      "text/plain": [
       "- : int * int = (1, 8)\n"
      ]
     },
     "execution_count": 10,
     "metadata": {},
     "output_type": "execute_result"
    }
   ],
   "source": [
    "max_local t1, max_local t2"
   ]
  },
  {
   "cell_type": "code",
   "execution_count": 11,
   "id": "9dc1034a-9eb6-49df-909d-0e8a6df6f401",
   "metadata": {},
   "outputs": [
    {
     "data": {
      "text/plain": [
       "- : int * int = (1, 8)\n"
      ]
     },
     "execution_count": 11,
     "metadata": {},
     "output_type": "execute_result"
    }
   ],
   "source": [
    "max_local2 t1, max_local2 t2"
   ]
  },
  {
   "cell_type": "code",
   "execution_count": 12,
   "id": "5e2ed9dc-7475-48c6-85c0-9250ac755431",
   "metadata": {},
   "outputs": [
    {
     "data": {
      "text/plain": [
       "- : int array = [|0; 1; 2; 3; 3; 5; 6; 6|]\n"
      ]
     },
     "execution_count": 12,
     "metadata": {},
     "output_type": "execute_result"
    }
   ],
   "source": [
    "tri_comptage t3 ; t3"
   ]
  },
  {
   "cell_type": "code",
   "execution_count": 13,
   "id": "70e86be2-d00f-455a-a8b5-e5ef7fa942ff",
   "metadata": {},
   "outputs": [
    {
     "data": {
      "text/plain": [
       "- : int array = [|0; 1; 3; 2; 3; 5; 6; 6|]\n"
      ]
     },
     "execution_count": 13,
     "metadata": {},
     "output_type": "execute_result"
    }
   ],
   "source": [
    "swap t3 3 2 ; t3"
   ]
  },
  {
   "cell_type": "code",
   "execution_count": 14,
   "id": "dd481b75-f56b-428d-a97b-cafe7fe4f723",
   "metadata": {},
   "outputs": [
    {
     "data": {
      "text/plain": [
       "- : int array = [|-11; -10; -3; -2; 1; 2; 2; 4; 6; 7; 8|]\n"
      ]
     },
     "execution_count": 14,
     "metadata": {},
     "output_type": "execute_result"
    }
   ],
   "source": [
    "tri_bulles t1 ; t1"
   ]
  }
 ],
 "metadata": {
  "kernelspec": {
   "display_name": "OCaml default",
   "language": "OCaml",
   "name": "ocaml-jupyter"
  },
  "language_info": {
   "codemirror_mode": "text/x-ocaml",
   "file_extension": ".ml",
   "mimetype": "text/x-ocaml",
   "name": "OCaml",
   "nbconverter_exporter": null,
   "pygments_lexer": "OCaml",
   "version": "4.08.1"
  }
 },
 "nbformat": 4,
 "nbformat_minor": 5
}
