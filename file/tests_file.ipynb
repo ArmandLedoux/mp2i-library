{
 "cells": [
  {
   "cell_type": "code",
   "execution_count": 1,
   "id": "7b4d5b78-5977-4ed6-b530-33d8916c9cdd",
   "metadata": {},
   "outputs": [
    {
     "name": "stdout",
     "output_type": "stream",
     "text": [
      "type 'a file = {\n",
      "  tab : 'a array;\n",
      "  mutable deb : int;\n",
      "  mutable fin : int;\n",
      "  mutable vide : bool;\n",
      "}\n",
      "val ajoute : 'a file -> 'a -> unit = <fun>\n",
      "val retire : 'a file -> 'a = <fun>\n"
     ]
    }
   ],
   "source": [
    "#use \"file.ml\""
   ]
  },
  {
   "cell_type": "code",
   "execution_count": 2,
   "id": "bc9c648c-8665-4dc7-a46b-3e1c65df907f",
   "metadata": {},
   "outputs": [
    {
     "data": {
      "text/plain": [
       "val f : int file =\n",
       "  {tab = [|0; 0; 0; 0; 0; 0|]; deb = 0; fin = 0; vide = true}\n"
      ]
     },
     "execution_count": 2,
     "metadata": {},
     "output_type": "execute_result"
    }
   ],
   "source": [
    "let f = {\n",
    "    tab = Array.make 6 0 ;\n",
    "    deb = 0 ;\n",
    "    fin = 0 ;\n",
    "    vide = true\n",
    "}"
   ]
  },
  {
   "cell_type": "code",
   "execution_count": 3,
   "id": "f87c8504-b14f-4b15-b803-7b971df40169",
   "metadata": {},
   "outputs": [
    {
     "data": {
      "text/plain": [
       "- : unit = ()\n"
      ]
     },
     "execution_count": 3,
     "metadata": {},
     "output_type": "execute_result"
    },
    {
     "ename": "error",
     "evalue": "runtime_error",
     "output_type": "error",
     "traceback": [
      "\u001b[31mException: Failure \"File pleine\".\nRaised at file \"stdlib.ml\", line 29, characters 22-33\nCalled from file \"toplevel/toploop.ml\", line 208, characters 17-27\n\u001b[0m"
     ]
    }
   ],
   "source": [
    "ajoute f 31 ; ajoute f 42 ; ajoute f 7 ; ajoute f 5 ; ajoute f 7 ; ajoute f 8 ;;\n",
    "ajoute f 9"
   ]
  },
  {
   "cell_type": "code",
   "execution_count": 4,
   "id": "7baec796-7b99-4adb-bf27-007bc4ec1ce8",
   "metadata": {},
   "outputs": [
    {
     "data": {
      "text/plain": [
       "- : int file = {tab = [|31; 42; 7; 5; 7; 8|]; deb = 0; fin = 0; vide = false}\n"
      ]
     },
     "execution_count": 4,
     "metadata": {},
     "output_type": "execute_result"
    }
   ],
   "source": [
    "f"
   ]
  },
  {
   "cell_type": "code",
   "execution_count": 5,
   "id": "7e2ca183-7f5a-48bf-a4ba-93d09af16f03",
   "metadata": {},
   "outputs": [
    {
     "data": {
      "text/plain": [
       "- : int = 31\n"
      ]
     },
     "execution_count": 5,
     "metadata": {},
     "output_type": "execute_result"
    },
    {
     "data": {
      "text/plain": [
       "- : int * int * int * int * int = (8, 7, 5, 7, 42)\n"
      ]
     },
     "execution_count": 5,
     "metadata": {},
     "output_type": "execute_result"
    },
    {
     "ename": "error",
     "evalue": "runtime_error",
     "output_type": "error",
     "traceback": [
      "\u001b[31mException: Failure \"File vide\".\nRaised at file \"stdlib.ml\", line 29, characters 22-33\nCalled from file \"toplevel/toploop.ml\", line 208, characters 17-27\n\u001b[0m"
     ]
    }
   ],
   "source": [
    "retire f ;;\n",
    "retire f, retire f, retire f, retire f, retire f ;;\n",
    "retire f"
   ]
  },
  {
   "cell_type": "code",
   "execution_count": 6,
   "id": "70e8d4b5-cc5e-471b-8655-6b69bf8f0b48",
   "metadata": {},
   "outputs": [
    {
     "data": {
      "text/plain": [
       "- : int file = {tab = [|31; 42; 7; 5; 7; 8|]; deb = 0; fin = 0; vide = true}\n"
      ]
     },
     "execution_count": 6,
     "metadata": {},
     "output_type": "execute_result"
    }
   ],
   "source": [
    "f"
   ]
  }
 ],
 "metadata": {
  "kernelspec": {
   "display_name": "OCaml default",
   "language": "OCaml",
   "name": "ocaml-jupyter"
  },
  "language_info": {
   "codemirror_mode": "text/x-ocaml",
   "file_extension": ".ml",
   "mimetype": "text/x-ocaml",
   "name": "OCaml",
   "nbconverter_exporter": null,
   "pygments_lexer": "OCaml",
   "version": "4.08.1"
  }
 },
 "nbformat": 4,
 "nbformat_minor": 5
}
