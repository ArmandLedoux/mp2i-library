{
 "cells": [
  {
   "cell_type": "code",
   "execution_count": 1,
   "id": "2593fa09-8009-42dd-9c2e-ccb7d8374d4b",
   "metadata": {},
   "outputs": [
    {
     "name": "stdout",
     "output_type": "stream",
     "text": [
      "val mem : 'a list -> 'a -> bool = <fun>\n",
      "val taille : 'a list -> int = <fun>\n",
      "val somme : int list -> int = <fun>\n",
      "val moyenne : float list -> float = <fun>\n",
      "val croissante : 'a list -> bool = <fun>\n",
      "val rev : 'a list -> 'a list = <fun>\n",
      "val range : int -> int list = <fun>\n",
      "val iter : ('a -> 'b) -> 'a list -> unit = <fun>\n",
      "val map : ('a -> 'b) -> 'a list -> 'b list = <fun>\n",
      "val exists : ('a -> bool) -> 'a list -> bool = <fun>\n",
      "val for_all : ('a -> bool) -> 'a list -> bool = <fun>\n",
      "val filter : ('a -> bool) -> 'a list -> 'a list = <fun>\n",
      "val tri_fusion : 'a list -> 'a list = <fun>\n",
      "val doublons : 'a list -> bool = <fun>\n"
     ]
    }
   ],
   "source": [
    "#use \"list.ml\""
   ]
  },
  {
   "cell_type": "code",
   "execution_count": 2,
   "id": "ed9c8c05-2c20-4ab6-8352-1b71884b649d",
   "metadata": {},
   "outputs": [
    {
     "data": {
      "text/plain": [
       "val l1 : int list = [-5; -4; 2; -1; -6; 9]\n"
      ]
     },
     "execution_count": 2,
     "metadata": {},
     "output_type": "execute_result"
    },
    {
     "data": {
      "text/plain": [
       "val l2 : float list = [-5.; -4.; 2.; -1.; -6.; 9.]\n"
      ]
     },
     "execution_count": 2,
     "metadata": {},
     "output_type": "execute_result"
    },
    {
     "data": {
      "text/plain": [
       "val l3 : int list = [-6; -5; -4; -1; 2; 9]\n"
      ]
     },
     "execution_count": 2,
     "metadata": {},
     "output_type": "execute_result"
    },
    {
     "data": {
      "text/plain": [
       "val l4 : int list = [-5; -4; 2; -5; -1; -6; 9]\n"
      ]
     },
     "execution_count": 2,
     "metadata": {},
     "output_type": "execute_result"
    }
   ],
   "source": [
    "let l1 = [-5; -4; 2; -1; -6; 9];;\n",
    "let l2 = [-5.; -4.; 2.; -1.; -6.; 9.];;\n",
    "let l3 = [-6; -5; -4; -1; 2; 9];;\n",
    "let l4 = [-5; -4; 2; -5;-1; -6; 9];;"
   ]
  },
  {
   "cell_type": "code",
   "execution_count": 3,
   "id": "842956ae-3a48-44a7-892f-691388395e6d",
   "metadata": {},
   "outputs": [
    {
     "data": {
      "text/plain": [
       "- : bool * bool = (true, false)\n"
      ]
     },
     "execution_count": 3,
     "metadata": {},
     "output_type": "execute_result"
    }
   ],
   "source": [
    "mem l1 9, mem l1 10;;"
   ]
  },
  {
   "cell_type": "code",
   "execution_count": 4,
   "id": "bf1de1e9-f4c3-43ce-8d34-631504bdbedb",
   "metadata": {},
   "outputs": [
    {
     "data": {
      "text/plain": [
       "- : int = 6\n"
      ]
     },
     "execution_count": 4,
     "metadata": {},
     "output_type": "execute_result"
    }
   ],
   "source": [
    "taille l1 ;;"
   ]
  },
  {
   "cell_type": "code",
   "execution_count": 5,
   "id": "4b7ae395-9ace-473c-bb83-3a16acf7228d",
   "metadata": {},
   "outputs": [
    {
     "data": {
      "text/plain": [
       "- : int = -5\n"
      ]
     },
     "execution_count": 5,
     "metadata": {},
     "output_type": "execute_result"
    }
   ],
   "source": [
    "somme l1"
   ]
  },
  {
   "cell_type": "code",
   "execution_count": 6,
   "id": "0d447f07-5807-4357-a466-6290bb87c148",
   "metadata": {},
   "outputs": [
    {
     "data": {
      "text/plain": [
       "- : float = -0.83333333333333337\n"
      ]
     },
     "execution_count": 6,
     "metadata": {},
     "output_type": "execute_result"
    }
   ],
   "source": [
    "moyenne l2"
   ]
  },
  {
   "cell_type": "code",
   "execution_count": 7,
   "id": "8507eda2-93ed-42f0-9262-65074ed05f5d",
   "metadata": {},
   "outputs": [
    {
     "data": {
      "text/plain": [
       "- : bool * bool * bool = (false, false, true)\n"
      ]
     },
     "execution_count": 7,
     "metadata": {},
     "output_type": "execute_result"
    }
   ],
   "source": [
    "croissante l1, croissante l2, croissante l3"
   ]
  },
  {
   "cell_type": "code",
   "execution_count": 8,
   "id": "aef3193b-ac45-45ac-9b0d-b75d5d0eab38",
   "metadata": {},
   "outputs": [
    {
     "data": {
      "text/plain": [
       "- : int list = [9; -6; -1; 2; -4; -5]\n"
      ]
     },
     "execution_count": 8,
     "metadata": {},
     "output_type": "execute_result"
    }
   ],
   "source": [
    "rev l1"
   ]
  },
  {
   "cell_type": "code",
   "execution_count": 9,
   "id": "b7a2ea85-4b70-487b-90d7-d224f4308329",
   "metadata": {},
   "outputs": [
    {
     "data": {
      "text/plain": [
       "- : int list * int list = ([0; 1; 2; 3; 4; 5; 6], [])\n"
      ]
     },
     "execution_count": 9,
     "metadata": {},
     "output_type": "execute_result"
    }
   ],
   "source": [
    "range 7, range (-6)"
   ]
  },
  {
   "cell_type": "code",
   "execution_count": 10,
   "id": "803c8b99-0b95-467e-b603-9f3f81ae55dd",
   "metadata": {},
   "outputs": [
    {
     "name": "stdout",
     "output_type": "stream",
     "text": [
      "-5; -4; 2; -1; -6; 9; \n"
     ]
    },
    {
     "data": {
      "text/plain": [
       "- : unit = ()\n"
      ]
     },
     "execution_count": 10,
     "metadata": {},
     "output_type": "execute_result"
    }
   ],
   "source": [
    "iter (fun x -> print_int x ; print_string \"; \") l1 ;\n",
    "print_newline ()"
   ]
  },
  {
   "cell_type": "code",
   "execution_count": 11,
   "id": "bd2e5b9d-8e79-41c5-a356-5a25d3113e7c",
   "metadata": {},
   "outputs": [
    {
     "data": {
      "text/plain": [
       "- : float list * bool = ([-5.; -4.; 2.; -1.; -6.; 9.], true)\n"
      ]
     },
     "execution_count": 11,
     "metadata": {},
     "output_type": "execute_result"
    }
   ],
   "source": [
    "let ltemp = map (fun x -> float_of_int x ) l1 in\n",
    "(ltemp, ltemp = l2)"
   ]
  },
  {
   "cell_type": "code",
   "execution_count": 12,
   "id": "38c15389-2195-496f-873c-44591d717df0",
   "metadata": {},
   "outputs": [
    {
     "data": {
      "text/plain": [
       "- : bool * bool = (true, false)\n"
      ]
     },
     "execution_count": 12,
     "metadata": {},
     "output_type": "execute_result"
    }
   ],
   "source": [
    "exists (fun x -> x < 0) l1, exists (fun x -> x > 9) l1"
   ]
  },
  {
   "cell_type": "code",
   "execution_count": 13,
   "id": "a7d3f6e1-5096-4b6a-80d2-a831e2bc67b5",
   "metadata": {},
   "outputs": [
    {
     "data": {
      "text/plain": [
       "- : bool * bool = (false, true)\n"
      ]
     },
     "execution_count": 13,
     "metadata": {},
     "output_type": "execute_result"
    }
   ],
   "source": [
    "for_all (fun x -> x < 0) l1, for_all (fun x -> x < 10) l1"
   ]
  },
  {
   "cell_type": "code",
   "execution_count": 14,
   "id": "bdfc7bb0-49a3-4e04-ad21-eb7945867e7e",
   "metadata": {},
   "outputs": [
    {
     "data": {
      "text/plain": [
       "- : int list = [-5; -4; -1; -6]\n"
      ]
     },
     "execution_count": 14,
     "metadata": {},
     "output_type": "execute_result"
    }
   ],
   "source": [
    "filter (fun x -> x < 0) l1"
   ]
  },
  {
   "cell_type": "code",
   "execution_count": 15,
   "id": "95dd6743-bceb-4ceb-ab65-b7998fb35607",
   "metadata": {},
   "outputs": [
    {
     "data": {
      "text/plain": [
       "- : int list * bool = ([-6; -5; -4; -1; 2; 9], true)\n"
      ]
     },
     "execution_count": 15,
     "metadata": {},
     "output_type": "execute_result"
    }
   ],
   "source": [
    "let ltemp = tri_fusion l1 in\n",
    "ltemp, ltemp = l3"
   ]
  },
  {
   "cell_type": "code",
   "execution_count": 16,
   "id": "68b5c51f-0369-4d0b-8646-bc1ce916c17c",
   "metadata": {},
   "outputs": [
    {
     "data": {
      "text/plain": [
       "- : bool * bool = (false, true)\n"
      ]
     },
     "execution_count": 16,
     "metadata": {},
     "output_type": "execute_result"
    }
   ],
   "source": [
    "doublons l1, doublons l4"
   ]
  }
 ],
 "metadata": {
  "kernelspec": {
   "display_name": "OCaml default",
   "language": "OCaml",
   "name": "ocaml-jupyter"
  },
  "language_info": {
   "codemirror_mode": "text/x-ocaml",
   "file_extension": ".ml",
   "mimetype": "text/x-ocaml",
   "name": "OCaml",
   "nbconverter_exporter": null,
   "pygments_lexer": "OCaml",
   "version": "4.08.1"
  }
 },
 "nbformat": 4,
 "nbformat_minor": 5
}
