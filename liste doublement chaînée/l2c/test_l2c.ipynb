{
 "cells": [
  {
   "cell_type": "code",
   "execution_count": 1,
   "id": "9ec2169d-c077-41e9-8e6c-0c33b77cc8a6",
   "metadata": {},
   "outputs": [
    {
     "name": "stdout",
     "output_type": "stream",
     "text": [
      "type 'a l2c = { elem : 'a; mutable prev : 'a l2c; mutable next : 'a l2c; }\n",
      "val create_l2c : 'a -> 'a l2c = <fun>\n",
      "val add : 'a l2c -> 'a -> unit = <fun>\n",
      "val del : 'a l2c -> unit = <fun>\n",
      "val length : 'a l2c -> int = <fun>\n",
      "val mem : 'a l2c -> 'a -> bool = <fun>\n",
      "val fusion : 'a l2c -> 'a l2c -> unit = <fun>\n"
     ]
    }
   ],
   "source": [
    "#use \"l2c.ml\""
   ]
  },
  {
   "cell_type": "code",
   "execution_count": 2,
   "id": "bcc91719-f53f-4319-801c-bac76a5a67a2",
   "metadata": {},
   "outputs": [
    {
     "data": {
      "text/plain": [
       "val l1 : int l2c = {elem = 1; prev = <cycle>; next = <cycle>}\n"
      ]
     },
     "execution_count": 2,
     "metadata": {},
     "output_type": "execute_result"
    }
   ],
   "source": [
    "let l1 = create_l2c 1"
   ]
  },
  {
   "cell_type": "code",
   "execution_count": 3,
   "id": "c5ce2302-40f6-46a0-bc11-b51ebe342041",
   "metadata": {},
   "outputs": [
    {
     "data": {
      "text/plain": [
       "- : int l2c =\n",
       "{elem = 1;\n",
       " prev =\n",
       "  {elem = 3; prev = {elem = 2; prev = <cycle>; next = <cycle>};\n",
       "   next = <cycle>};\n",
       " next =\n",
       "  {elem = 2; prev = <cycle>;\n",
       "   next = {elem = 3; prev = <cycle>; next = <cycle>}}}\n"
      ]
     },
     "execution_count": 3,
     "metadata": {},
     "output_type": "execute_result"
    }
   ],
   "source": [
    "add l1 2; add l1 3;\n",
    "l1"
   ]
  },
  {
   "cell_type": "code",
   "execution_count": 4,
   "id": "57faed92-a0ac-47d5-b74e-61c4b4df3fc8",
   "metadata": {},
   "outputs": [
    {
     "data": {
      "text/plain": [
       "- : int = 3\n"
      ]
     },
     "execution_count": 4,
     "metadata": {},
     "output_type": "execute_result"
    }
   ],
   "source": [
    "length l1"
   ]
  },
  {
   "cell_type": "code",
   "execution_count": 5,
   "id": "82d0f51b-d3ee-4ecb-81cb-15b5339966fd",
   "metadata": {},
   "outputs": [
    {
     "data": {
      "text/plain": [
       "- : bool * bool = (false, true)\n"
      ]
     },
     "execution_count": 5,
     "metadata": {},
     "output_type": "execute_result"
    }
   ],
   "source": [
    "mem l1 4, mem l1 3"
   ]
  },
  {
   "cell_type": "code",
   "execution_count": 6,
   "id": "5d55b652-2b53-4674-a339-0968d1e0c9db",
   "metadata": {},
   "outputs": [
    {
     "data": {
      "text/plain": [
       "val l2 : int l2c = {elem = 10; prev = <cycle>; next = <cycle>}\n"
      ]
     },
     "execution_count": 6,
     "metadata": {},
     "output_type": "execute_result"
    },
    {
     "data": {
      "text/plain": [
       "- : int l2c =\n",
       "{elem = 10;\n",
       " prev =\n",
       "  {elem = 12; prev = {elem = 11; prev = <cycle>; next = <cycle>};\n",
       "   next = <cycle>};\n",
       " next =\n",
       "  {elem = 11; prev = <cycle>;\n",
       "   next = {elem = 12; prev = <cycle>; next = <cycle>}}}\n"
      ]
     },
     "execution_count": 6,
     "metadata": {},
     "output_type": "execute_result"
    }
   ],
   "source": [
    "let l2 = create_l2c 10 ;; \n",
    "add l2 11 ; add l2 12 ;\n",
    "l2"
   ]
  },
  {
   "cell_type": "code",
   "execution_count": 7,
   "id": "8cc356ec-31d7-4ca1-803c-845ebd1ef0bb",
   "metadata": {},
   "outputs": [
    {
     "data": {
      "text/plain": [
       "- : int l2c =\n",
       "{elem = 10;\n",
       " prev =\n",
       "  {elem = 12; prev = {elem = 11; prev = <cycle>; next = <cycle>};\n",
       "   next =\n",
       "    {elem = 1; prev = <cycle>;\n",
       "     next =\n",
       "      {elem = 2; prev = <cycle>;\n",
       "       next = {elem = 3; prev = <cycle>; next = <cycle>}}}};\n",
       " next =\n",
       "  {elem = 11; prev = <cycle>;\n",
       "   next =\n",
       "    {elem = 12; prev = <cycle>;\n",
       "     next =\n",
       "      {elem = 1; prev = <cycle>;\n",
       "       next =\n",
       "        {elem = 2; prev = <cycle>;\n",
       "         next = {elem = 3; prev = <cycle>; next = <cycle>}}}}}}\n"
      ]
     },
     "execution_count": 7,
     "metadata": {},
     "output_type": "execute_result"
    }
   ],
   "source": [
    "fusion l1 l2 ; \n",
    "l2"
   ]
  }
 ],
 "metadata": {
  "kernelspec": {
   "display_name": "OCaml default",
   "language": "OCaml",
   "name": "ocaml-jupyter"
  },
  "language_info": {
   "codemirror_mode": "text/x-ocaml",
   "file_extension": ".ml",
   "mimetype": "text/x-ocaml",
   "name": "OCaml",
   "nbconverter_exporter": null,
   "pygments_lexer": "OCaml",
   "version": "4.08.1"
  }
 },
 "nbformat": 4,
 "nbformat_minor": 5
}
