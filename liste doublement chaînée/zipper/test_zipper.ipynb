{
 "cells": [
  {
   "cell_type": "code",
   "execution_count": 1,
   "id": "f9e0d4c6-9913-41b3-8740-d49424e8c4cd",
   "metadata": {},
   "outputs": [
    {
     "name": "stdout",
     "output_type": "stream",
     "text": [
      "type 'a zipper = { left : 'a list; right : 'a list; }\n",
      "val move_right : 'a zipper -> 'a zipper = <fun>\n",
      "val move_left : 'a zipper -> 'a zipper = <fun>\n",
      "val ajout : 'a zipper -> 'a -> 'a zipper = <fun>\n",
      "val retire : 'a zipper -> 'a * 'a zipper = <fun>\n",
      "val list_of_zipper : 'a zipper -> 'a list = <fun>\n"
     ]
    }
   ],
   "source": [
    "#use \"zipper.ml\""
   ]
  },
  {
   "cell_type": "code",
   "execution_count": 2,
   "id": "87ea9947-783f-4816-a205-373761c0f639",
   "metadata": {},
   "outputs": [
    {
     "data": {
      "text/plain": [
       "val z : int zipper = {left = [2; 1; 0]; right = [3; 4; 5; 6]}\n"
      ]
     },
     "execution_count": 2,
     "metadata": {},
     "output_type": "execute_result"
    }
   ],
   "source": [
    "let z = {left = [2;1;0] ; right = [3;4;5;6]}"
   ]
  },
  {
   "cell_type": "code",
   "execution_count": 3,
   "id": "91df0480-7bee-481b-955b-38880e274812",
   "metadata": {},
   "outputs": [
    {
     "data": {
      "text/plain": [
       "- : int zipper * int zipper =\n",
       "({left = [3; 2; 1; 0]; right = [4; 5; 6]},\n",
       " {left = [0]; right = [1; 2; 3; 4; 5; 6]})\n"
      ]
     },
     "execution_count": 3,
     "metadata": {},
     "output_type": "execute_result"
    }
   ],
   "source": [
    "move_right z,\n",
    "move_right (move_right (move_right (move_right (move_right z))))"
   ]
  },
  {
   "cell_type": "code",
   "execution_count": 4,
   "id": "a7f38356-d530-49c9-b2bd-48b0a19cfb2f",
   "metadata": {},
   "outputs": [
    {
     "data": {
      "text/plain": [
       "- : int zipper * int zipper =\n",
       "({left = [1; 0]; right = [2; 3; 4; 5; 6]},\n",
       " {left = [5; 4; 3; 2; 1; 0]; right = [6]})\n"
      ]
     },
     "execution_count": 4,
     "metadata": {},
     "output_type": "execute_result"
    }
   ],
   "source": [
    "move_left z,\n",
    "move_left (move_left (move_left (move_left z)))"
   ]
  },
  {
   "cell_type": "code",
   "execution_count": 5,
   "id": "7df29b6c-74a8-483f-b054-3a8331ea584a",
   "metadata": {},
   "outputs": [
    {
     "data": {
      "text/plain": [
       "- : int zipper = {left = [2; 1; 0]; right = [31; 3; 4; 5; 6]}\n"
      ]
     },
     "execution_count": 5,
     "metadata": {},
     "output_type": "execute_result"
    }
   ],
   "source": [
    "ajout z 31"
   ]
  },
  {
   "cell_type": "code",
   "execution_count": 6,
   "id": "78f6bc67-8e01-405b-a6cb-5541d99e492b",
   "metadata": {},
   "outputs": [
    {
     "data": {
      "text/plain": [
       "- : int zipper * int zipper =\n",
       "({left = [2; 1; 0]; right = [4; 5; 6]}, {left = []; right = [1; 2]})\n"
      ]
     },
     "execution_count": 6,
     "metadata": {},
     "output_type": "execute_result"
    }
   ],
   "source": [
    "snd (retire z),\n",
    "snd (retire (snd (retire (snd (retire (snd (retire (snd (retire z)))))))))"
   ]
  },
  {
   "cell_type": "code",
   "execution_count": 7,
   "id": "36ac0b5e-d253-4a18-ba68-0e39c7f74ef6",
   "metadata": {},
   "outputs": [
    {
     "data": {
      "text/plain": [
       "- : int list = [0; 1; 2; 3; 4; 5; 6]\n"
      ]
     },
     "execution_count": 7,
     "metadata": {},
     "output_type": "execute_result"
    }
   ],
   "source": [
    "list_of_zipper z"
   ]
  }
 ],
 "metadata": {
  "kernelspec": {
   "display_name": "OCaml default",
   "language": "OCaml",
   "name": "ocaml-jupyter"
  },
  "language_info": {
   "codemirror_mode": "text/x-ocaml",
   "file_extension": ".ml",
   "mimetype": "text/x-ocaml",
   "name": "OCaml",
   "nbconverter_exporter": null,
   "pygments_lexer": "OCaml",
   "version": "4.08.1"
  }
 },
 "nbformat": 4,
 "nbformat_minor": 5
}
