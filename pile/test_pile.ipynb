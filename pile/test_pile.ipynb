{
 "cells": [
  {
   "cell_type": "code",
   "execution_count": 7,
   "metadata": {},
   "outputs": [
    {
     "name": "stdout",
     "output_type": "stream",
     "text": [
      "type 'a pile_imperative = {\n",
      "  empty : unit -> bool;\n",
      "  push : 'a -> unit;\n",
      "  pop : unit -> 'a;\n",
      "}\n",
      "File \"stack.ml\", line 11, characters 4-8:\n",
      "11 |     vide = (fun () -> !n = 0);\n",
      "         ^^^^\n",
      "Error: Unbound record field vide\n"
     ]
    }
   ],
   "source": [
    "#use \"stack.ml\";;"
   ]
  },
  {
   "cell_type": "code",
   "execution_count": 2,
   "metadata": {},
   "outputs": [
    {
     "name": "stdout",
     "output_type": "stream",
     "text": [
      "File \"stack.ml\", line 11, characters 4-8:\n",
      "11 |     vide = (fun () -> !n = 0);\n",
      "         ^^^^\n",
      "Error: Unbound record field vide\n"
     ]
    },
    {
     "ename": "error",
     "evalue": "compile_error",
     "output_type": "error",
     "traceback": [
      "File \"[2]\", line 1, characters 8-22:\n1 | let s = stack_of_array (Array.make 10 0);;\n            ^^^^^^^^^^^^^^\nError: Unbound value stack_of_array\n"
     ]
    }
   ],
   "source": [
    "let s = stack_of_array (Array.make 10 0);;"
   ]
  },
  {
   "cell_type": "code",
   "execution_count": 3,
   "metadata": {},
   "outputs": [
    {
     "ename": "error",
     "evalue": "compile_error",
     "output_type": "error",
     "traceback": [
      "File \"[3]\", line 2, characters 2-3:\n2 |   s.ajout (2*i)\n      ^\nError: Unbound value s\n"
     ]
    }
   ],
   "source": [
    "for i = 0 to 4 do \n",
    "  s.ajout (2*i)\n",
    "done"
   ]
  },
  {
   "cell_type": "code",
   "execution_count": 4,
   "metadata": {},
   "outputs": [
    {
     "ename": "error",
     "evalue": "compile_error",
     "output_type": "error",
     "traceback": [
      "File \"[4]\", line 1, characters 0-1:\n1 | s.retire ()\n    ^\nError: Unbound value s\n"
     ]
    }
   ],
   "source": [
    "s.retire ()"
   ]
  },
  {
   "cell_type": "code",
   "execution_count": 5,
   "metadata": {},
   "outputs": [
    {
     "ename": "error",
     "evalue": "compile_error",
     "output_type": "error",
     "traceback": [
      "File \"[5]\", line 1, characters 0-13:\n1 | stack_to_list s\n    ^^^^^^^^^^^^^\nError: Unbound value stack_to_list\n"
     ]
    }
   ],
   "source": [
    "stack_to_list s"
   ]
  },
  {
   "cell_type": "code",
   "execution_count": 6,
   "metadata": {},
   "outputs": [
    {
     "ename": "error",
     "evalue": "compile_error",
     "output_type": "error",
     "traceback": [
      "File \"[6]\", line 1, characters 0-13:\n1 | stack_to_list s (* elements in s are still here *)\n    ^^^^^^^^^^^^^\nError: Unbound value stack_to_list\n"
     ]
    }
   ],
   "source": [
    "stack_to_list s (* elements in s are still here *)"
   ]
  }
 ],
 "metadata": {
  "kernelspec": {
   "display_name": "OCaml default",
   "language": "OCaml",
   "name": "ocaml-jupyter"
  },
  "language_info": {
   "codemirror_mode": "text/x-ocaml",
   "file_extension": ".ml",
   "mimetype": "text/x-ocaml",
   "name": "OCaml",
   "nbconverter_exporter": null,
   "pygments_lexer": "OCaml",
   "version": "4.08.1"
  }
 },
 "nbformat": 4,
 "nbformat_minor": 4
}
