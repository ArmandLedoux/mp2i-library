{
 "cells": [
  {
   "cell_type": "code",
   "execution_count": 11,
   "id": "3ca04bcf-0486-48fa-9891-9af76faa4845",
   "metadata": {},
   "outputs": [
    {
     "name": "stdout",
     "output_type": "stream",
     "text": [
      "type ('a, 'b) dict = {\n",
      "  values : ('b option * ('a, 'b) sub_dict option) array;\n",
      "  hash : 'a -> int -> int;\n",
      "  klength : 'a -> int;\n",
      "}\n",
      "and ('a, 'b) sub_dict = {\n",
      "  data : ('b option * ('a, 'b) sub_dict option) array;\n",
      "  mutable nbkeys : int;\n",
      "}\n",
      "val create_dict : int -> ('a -> int -> int) -> ('a -> int) -> ('a, 'b) dict =\n",
      "  <fun>\n",
      "val add_dict : ('a, 'b) dict -> 'a -> 'b -> unit = <fun>\n",
      "val get_dict : ('a, 'b) dict -> 'a -> 'b = <fun>\n",
      "val pop_dict : ('a, 'b) dict -> 'a -> 'b = <fun>\n"
     ]
    }
   ],
   "source": [
    "#use \"dictionnaire.ml\" "
   ]
  },
  {
   "cell_type": "code",
   "execution_count": 2,
   "id": "716c986d-187e-4b12-b001-ec6050a816d4",
   "metadata": {},
   "outputs": [
    {
     "data": {
      "text/plain": [
       "val str_dict : unit -> (string, 'a) dict = <fun>\n"
      ]
     },
     "execution_count": 2,
     "metadata": {},
     "output_type": "execute_result"
    }
   ],
   "source": [
    "(* Exemple avec l'implémentation d'un dictionnaire*)\n",
    "(** Crée un dictionnaire en utilisant un dict. Ne fonctionne qu'avec les lettres minuscules de a à z. *)\n",
    "let str_dict () = create_dict 26 \n",
    "    (fun str i -> (Char.code str.[i] - 97) mod 26)\n",
    "    (fun str -> String.length str)"
   ]
  },
  {
   "cell_type": "code",
   "execution_count": 3,
   "id": "f09a190b-9370-42e7-b7ba-207fe6666c95",
   "metadata": {},
   "outputs": [
    {
     "data": {
      "text/plain": [
       "val dico : (string, '_weak1) dict =\n",
       "  {values =\n",
       "    [|(None, None); (None, None); (None, None); (None, None); (None, None);\n",
       "      (None, None); (None, None); (None, None); (None, None); (None, None);\n",
       "      (None, None); (None, None); (None, None); (None, None); (None, None);\n",
       "      (None, None); (None, None); (None, None); (None, None); (None, None);\n",
       "      (None, None); (None, None); (None, None); (None, None); (None, None);\n",
       "      (None, None)|];\n",
       "   hash = <fun>; klength = <fun>}\n"
      ]
     },
     "execution_count": 3,
     "metadata": {},
     "output_type": "execute_result"
    }
   ],
   "source": [
    "let dico = str_dict ()"
   ]
  },
  {
   "cell_type": "code",
   "execution_count": 4,
   "id": "e932c52f-0f40-4b85-a331-68b4d4261bd2",
   "metadata": {},
   "outputs": [
    {
     "ename": "error",
     "evalue": "compile_error",
     "output_type": "error",
     "traceback": [
      "File \"[4]\", line 1, characters 0-8:\n1 | add_dict dico \"a\" 6 ;\n    ^^^^^^^^\nError: Unbound value add_dict\nHint: Did you mean str_dict?\n"
     ]
    }
   ],
   "source": [
    "add_dict dico \"a\" 6 ;\n",
    "add_dict dico \"abc\" 7 ; \n",
    "add_dict dico \"abc\" 4 ;\n",
    "add_dict dico \"test\" 9"
   ]
  },
  {
   "cell_type": "code",
   "execution_count": 5,
   "id": "5b10442a-b835-4d2f-9a3a-ab8904d5342b",
   "metadata": {},
   "outputs": [
    {
     "ename": "error",
     "evalue": "compile_error",
     "output_type": "error",
     "traceback": [
      "File \"[5]\", line 1, characters 0-8:\n1 | get_dict dico \"a\", get_dict dico \"test\", get_dict dico \"abc\" ;;\n    ^^^^^^^^\nError: Unbound value get_dict\nHint: Did you mean str_dict?\n"
     ]
    }
   ],
   "source": [
    "get_dict dico \"a\", get_dict dico \"test\", get_dict dico \"abc\" ;;\n",
    "get_dict dico \"test2\""
   ]
  },
  {
   "cell_type": "code",
   "execution_count": 6,
   "id": "d0b4d04b-3c72-407e-82c6-85182190d726",
   "metadata": {},
   "outputs": [
    {
     "ename": "error",
     "evalue": "compile_error",
     "output_type": "error",
     "traceback": [
      "File \"[6]\", line 1, characters 0-8:\n1 | pop_dict dico \"a\", pop_dict dico \"test\" ;;\n    ^^^^^^^^\nError: Unbound value pop_dict\nHint: Did you mean str_dict?\n"
     ]
    }
   ],
   "source": [
    "pop_dict dico \"a\", pop_dict dico \"test\" ;;\n",
    "pop_dict dico \"test\""
   ]
  }
 ],
 "metadata": {
  "kernelspec": {
   "display_name": "OCaml default",
   "language": "OCaml",
   "name": "ocaml-jupyter"
  },
  "language_info": {
   "codemirror_mode": "text/x-ocaml",
   "file_extension": ".ml",
   "mimetype": "text/x-ocaml",
   "name": "OCaml",
   "nbconverter_exporter": null,
   "pygments_lexer": "OCaml",
   "version": "4.08.1"
  }
 },
 "nbformat": 4,
 "nbformat_minor": 5
}
