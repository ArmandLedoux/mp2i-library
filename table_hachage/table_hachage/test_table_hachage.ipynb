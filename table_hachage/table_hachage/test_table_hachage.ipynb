{
 "cells": [
  {
   "cell_type": "code",
   "execution_count": 1,
   "id": "9f153028-ae50-427f-a5fd-ffd90d936f8c",
   "metadata": {},
   "outputs": [
    {
     "name": "stdout",
     "output_type": "stream",
     "text": [
      "type ('a, 'b) table_hachage = {\n",
      "  hache : 'a -> int;\n",
      "  donnees : ('a * 'b) list array;\n",
      "  largeur : int;\n",
      "}\n",
      "val creer : ('a -> int) -> int -> ('a, 'b) table_hachage = <fun>\n",
      "val recherche : ('a, 'b) table_hachage -> 'a -> bool = <fun>\n",
      "val element : ('a, 'b) table_hachage -> 'a -> 'b = <fun>\n",
      "val ajout : ('a, 'b) table_hachage -> 'a -> 'b -> unit = <fun>\n",
      "val suppr : ('a, 'b) table_hachage -> 'a -> unit = <fun>\n"
     ]
    }
   ],
   "source": [
    "#use \"table_hachage.ml\""
   ]
  },
  {
   "cell_type": "code",
   "execution_count": 2,
   "id": "b2644608-4d41-4913-8124-c10711aa2c85",
   "metadata": {},
   "outputs": [
    {
     "data": {
      "text/plain": [
       "val dico : (int, '_weak1) table_hachage =\n",
       "  {hache = <fun>;\n",
       "   donnees =\n",
       "    [|[]; []; []; []; []; []; []; []; []; []; []; []; []; []; []; []; \n",
       "      []; []; []; []|];\n",
       "   largeur = 20}\n"
      ]
     },
     "execution_count": 2,
     "metadata": {},
     "output_type": "execute_result"
    }
   ],
   "source": [
    "let dico = creer (fun x -> x mod 20) 20"
   ]
  },
  {
   "cell_type": "code",
   "execution_count": 3,
   "id": "3d6bcbf0-59e4-459e-8dc4-5eef6164344b",
   "metadata": {},
   "outputs": [
    {
     "data": {
      "text/plain": [
       "- : (int, int) table_hachage =\n",
       "{hache = <fun>;\n",
       " donnees =\n",
       "  [|[]; [(1, 8); (21, 8); (41, 7)]; [(2, 9)]; []; []; []; [(6, 6)]; []; \n",
       "    []; []; []; [(31, 78)]; []; []; []; []; [(56, 2)]; []; [(78, 31)]; \n",
       "    []|];\n",
       " largeur = 20}\n"
      ]
     },
     "execution_count": 3,
     "metadata": {},
     "output_type": "execute_result"
    }
   ],
   "source": [
    "ajout dico 31 78;\n",
    "ajout dico 78 31;\n",
    "ajout dico 56 2;\n",
    "ajout dico 1 8;\n",
    "ajout dico 2 9;\n",
    "ajout dico 21 8;\n",
    "ajout dico 41 7;\n",
    "ajout dico 6 6;\n",
    "dico"
   ]
  },
  {
   "cell_type": "code",
   "execution_count": 4,
   "id": "bc3822c6-6fea-4653-8fb7-67fdb67cf0d4",
   "metadata": {},
   "outputs": [
    {
     "data": {
      "text/plain": [
       "- : (bool * bool) * (bool * bool) = ((true, true), (false, false))\n"
      ]
     },
     "execution_count": 4,
     "metadata": {},
     "output_type": "execute_result"
    }
   ],
   "source": [
    "(recherche dico 41, recherche dico 1),\n",
    "(recherche dico 61, recherche dico 0)"
   ]
  },
  {
   "cell_type": "code",
   "execution_count": 5,
   "id": "53c08423-c69e-42a5-a825-2f45f128bc93",
   "metadata": {},
   "outputs": [
    {
     "data": {
      "text/plain": [
       "- : int * int = (78, 8)\n"
      ]
     },
     "execution_count": 5,
     "metadata": {},
     "output_type": "execute_result"
    },
    {
     "ename": "error",
     "evalue": "runtime_error",
     "output_type": "error",
     "traceback": [
      "\u001b[31mException: Failure \"k not found\".\nRaised at file \"stdlib.ml\", line 29, characters 22-33\nCalled from file \"toplevel/toploop.ml\", line 208, characters 17-27\n\u001b[0m"
     ]
    }
   ],
   "source": [
    "(element dico 31,\n",
    "element dico 1) ;;\n",
    "element dico 61"
   ]
  },
  {
   "cell_type": "code",
   "execution_count": 6,
   "id": "ac4b2785-3c88-4067-9859-2eae18ccf9b6",
   "metadata": {},
   "outputs": [
    {
     "data": {
      "text/plain": [
       "- : (int, int) table_hachage =\n",
       "{hache = <fun>;\n",
       " donnees =\n",
       "  [|[]; [(1, 8); (41, 7)]; [(2, 9)]; []; []; []; []; []; []; []; [];\n",
       "    [(31, 78)]; []; []; []; []; []; []; [(78, 31)]; []|];\n",
       " largeur = 20}\n"
      ]
     },
     "execution_count": 6,
     "metadata": {},
     "output_type": "execute_result"
    }
   ],
   "source": [
    "suppr dico 21;\n",
    "suppr dico 21;\n",
    "suppr dico 0;\n",
    "suppr dico 6; \n",
    "suppr dico 56;\n",
    "suppr dico 18;\n",
    "dico"
   ]
  }
 ],
 "metadata": {
  "kernelspec": {
   "display_name": "OCaml default",
   "language": "OCaml",
   "name": "ocaml-jupyter"
  },
  "language_info": {
   "codemirror_mode": "text/x-ocaml",
   "file_extension": ".ml",
   "mimetype": "text/x-ocaml",
   "name": "OCaml",
   "nbconverter_exporter": null,
   "pygments_lexer": "OCaml",
   "version": "4.08.1"
  }
 },
 "nbformat": 4,
 "nbformat_minor": 5
}
